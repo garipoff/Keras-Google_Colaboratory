{
  "nbformat": 4,
  "nbformat_minor": 0,
  "metadata": {
    "colab": {
      "name": "core.ipynb",
      "version": "0.3.2",
      "provenance": [],
      "collapsed_sections": []
    },
    "kernelspec": {
      "name": "python3",
      "display_name": "Python 3"
    },
    "accelerator": "GPU"
  },
  "cells": [
    {
      "metadata": {
        "id": "ECEePWEG-wU9",
        "colab_type": "code",
        "colab": {}
      },
      "cell_type": "code",
      "source": [
        "from tensorflow.python.keras.preprocessing.image import ImageDataGenerator\n",
        "from tensorflow.python.keras.models import Sequential\n",
        "from tensorflow.python.keras.layers import Conv2D, MaxPooling2D\n",
        "from tensorflow.python.keras.layers import Activation, Dropout, Flatten, Dense"
      ],
      "execution_count": 0,
      "outputs": []
    },
    {
      "metadata": {
        "id": "hpL9nIqZ-6bV",
        "colab_type": "code",
        "outputId": "6850bc0d-0a03-43c0-c0de-c5cde89fc387",
        "colab": {
          "base_uri": "https://localhost:8080/",
          "height": 34
        }
      },
      "cell_type": "code",
      "source": [
        "# Load the Drive helper and mount\n",
        "from google.colab import drive\n",
        "\n",
        "# This will prompt for authorization.\n",
        "drive.mount('/content/drive')"
      ],
      "execution_count": 0,
      "outputs": [
        {
          "output_type": "stream",
          "text": [
            "Drive already mounted at /content/drive; to attempt to forcibly remount, call drive.mount(\"/content/drive\", force_remount=True).\n"
          ],
          "name": "stdout"
        }
      ]
    },
    {
      "metadata": {
        "id": "q7vg8-pD--0m",
        "colab_type": "code",
        "colab": {}
      },
      "cell_type": "code",
      "source": [
        "# Каталог с данными для обучения\n",
        "train_dir = '/content/drive/My Drive/Colab Notebooks/dataset/train'\n",
        "# Каталог с данными для проверки\n",
        "val_dir = '/content/drive/My Drive/Colab Notebooks/dataset/val'\n",
        "# Каталог с данными для тестирования\n",
        "test_dir = '/content/drive/My Drive/Colab Notebooks/dataset/test'\n",
        "# Размеры изображения\n",
        "img_width, img_height = 250, 250\n",
        "# Размерность тензора на основе изображения для входных данных в нейронную сеть\n",
        "# backend Tensorflow, channels_last\n",
        "input_shape = (img_width, img_height, 3)\n",
        "# Количество эпох\n",
        "epochs = 30\n",
        "# Размер мини-выборки\n",
        "batch_size = 30\n",
        "# Количество изображений для обучения\n",
        "nb_train_samples = 194\n",
        "# Количество изображений для проверки\n",
        "nb_validation_samples = 48\n",
        "# Количество изображений для тестирования\n",
        "nb_test_samples = 42"
      ],
      "execution_count": 0,
      "outputs": []
    },
    {
      "metadata": {
        "id": "DRP73kCj_I5B",
        "colab_type": "code",
        "colab": {}
      },
      "cell_type": "code",
      "source": [
        "model = Sequential()\n",
        "model.add(Conv2D(32, (3, 3), input_shape=input_shape))\n",
        "model.add(Activation('relu'))\n",
        "model.add(MaxPooling2D(pool_size=(2, 2)))\n",
        "\n",
        "model.add(Conv2D(32, (3, 3)))\n",
        "model.add(Activation('relu'))\n",
        "model.add(MaxPooling2D(pool_size=(2, 2)))\n",
        "\n",
        "model.add(Conv2D(64, (3, 3)))\n",
        "model.add(Activation('relu'))\n",
        "model.add(MaxPooling2D(pool_size=(2, 2)))\n",
        "\n",
        "model.add(Flatten())\n",
        "model.add(Dense(64))\n",
        "model.add(Activation('relu'))\n",
        "model.add(Dropout(0.5))\n",
        "model.add(Dense(1))\n",
        "model.add(Activation('sigmoid'))"
      ],
      "execution_count": 0,
      "outputs": []
    },
    {
      "metadata": {
        "id": "0ws44M8a_axb",
        "colab_type": "code",
        "colab": {}
      },
      "cell_type": "code",
      "source": [
        "model.compile(loss='binary_crossentropy',\n",
        "              optimizer='adam',\n",
        "              metrics=['accuracy'])"
      ],
      "execution_count": 0,
      "outputs": []
    },
    {
      "metadata": {
        "id": "UL9A9e4l_hox",
        "colab_type": "code",
        "colab": {}
      },
      "cell_type": "code",
      "source": [
        "datagen = ImageDataGenerator(rescale=1. / 255)"
      ],
      "execution_count": 0,
      "outputs": []
    },
    {
      "metadata": {
        "id": "cfNQAO4x_lxF",
        "colab_type": "code",
        "outputId": "37534ea8-3fe2-4189-d4f0-9e21c1befe79",
        "colab": {
          "base_uri": "https://localhost:8080/",
          "height": 34
        }
      },
      "cell_type": "code",
      "source": [
        "train_generator = datagen.flow_from_directory(\n",
        "    train_dir,\n",
        "    target_size=(img_width, img_height),\n",
        "    batch_size=batch_size,\n",
        "    class_mode='binary')"
      ],
      "execution_count": 0,
      "outputs": [
        {
          "output_type": "stream",
          "text": [
            "Found 194 images belonging to 2 classes.\n"
          ],
          "name": "stdout"
        }
      ]
    },
    {
      "metadata": {
        "id": "CLHqkzJA_q3m",
        "colab_type": "code",
        "outputId": "401c8fc6-fdbf-4548-e114-df5378e312c6",
        "colab": {
          "base_uri": "https://localhost:8080/",
          "height": 34
        }
      },
      "cell_type": "code",
      "source": [
        "val_generator = datagen.flow_from_directory(\n",
        "    val_dir,\n",
        "    target_size=(img_width, img_height),\n",
        "    batch_size=batch_size,\n",
        "    class_mode='binary')"
      ],
      "execution_count": 0,
      "outputs": [
        {
          "output_type": "stream",
          "text": [
            "Found 48 images belonging to 2 classes.\n"
          ],
          "name": "stdout"
        }
      ]
    },
    {
      "metadata": {
        "id": "Ti8-X35l_uPv",
        "colab_type": "code",
        "outputId": "f6ff8251-1359-4952-ba52-5fbe03ec7c9e",
        "colab": {
          "base_uri": "https://localhost:8080/",
          "height": 34
        }
      },
      "cell_type": "code",
      "source": [
        "test_generator = datagen.flow_from_directory(\n",
        "    test_dir,\n",
        "    target_size=(img_width, img_height),\n",
        "    batch_size=batch_size,\n",
        "    class_mode='binary')"
      ],
      "execution_count": 0,
      "outputs": [
        {
          "output_type": "stream",
          "text": [
            "Found 42 images belonging to 2 classes.\n"
          ],
          "name": "stdout"
        }
      ]
    },
    {
      "metadata": {
        "id": "MIKhlf2N_zi1",
        "colab_type": "code",
        "outputId": "77c44676-ca44-4682-b5bd-8f2d2a0f4bea",
        "colab": {
          "base_uri": "https://localhost:8080/",
          "height": 1564
        }
      },
      "cell_type": "code",
      "source": [
        "model.fit_generator(\n",
        "    train_generator,\n",
        "    steps_per_epoch=nb_train_samples // batch_size,\n",
        "    epochs=epochs,\n",
        "    validation_data=val_generator,\n",
        "    validation_steps=nb_validation_samples // batch_size)"
      ],
      "execution_count": 0,
      "outputs": [
        {
          "output_type": "stream",
          "text": [
            "Epoch 1/30\n",
            "2/2 [==============================] - 10s 5s/step - loss: 0.5721 - acc: 0.6875\n",
            "7/7 [==============================] - 11s 2s/step - loss: 1.0065 - acc: 0.5206 - val_loss: 0.5721 - val_acc: 0.6875\n",
            "Epoch 2/30\n",
            "2/2 [==============================] - 0s 188ms/step - loss: 0.6258 - acc: 0.6875\n",
            "7/7 [==============================] - 1s 157ms/step - loss: 0.6673 - acc: 0.6289 - val_loss: 0.6258 - val_acc: 0.6875\n",
            "Epoch 3/30\n",
            "2/2 [==============================] - 0s 172ms/step - loss: 0.5650 - acc: 0.6875\n",
            "7/7 [==============================] - 1s 179ms/step - loss: 0.6438 - acc: 0.6134 - val_loss: 0.5650 - val_acc: 0.6875\n",
            "Epoch 4/30\n",
            "2/2 [==============================] - 0s 185ms/step - loss: 0.6541 - acc: 0.7917\n",
            "7/7 [==============================] - 1s 193ms/step - loss: 0.6885 - acc: 0.5567 - val_loss: 0.6541 - val_acc: 0.7917\n",
            "Epoch 5/30\n",
            "2/2 [==============================] - 0s 163ms/step - loss: 0.5587 - acc: 0.6875\n",
            "7/7 [==============================] - 1s 171ms/step - loss: 0.6592 - acc: 0.6443 - val_loss: 0.5587 - val_acc: 0.6875\n",
            "Epoch 6/30\n",
            "2/2 [==============================] - 0s 184ms/step - loss: 0.5360 - acc: 0.7292\n",
            "7/7 [==============================] - 1s 207ms/step - loss: 0.6347 - acc: 0.6289 - val_loss: 0.5360 - val_acc: 0.7292\n",
            "Epoch 7/30\n",
            "2/2 [==============================] - 0s 171ms/step - loss: 0.5061 - acc: 0.8750\n",
            "7/7 [==============================] - 1s 182ms/step - loss: 0.6179 - acc: 0.6289 - val_loss: 0.5061 - val_acc: 0.8750\n",
            "Epoch 8/30\n",
            "2/2 [==============================] - 0s 193ms/step - loss: 0.5508 - acc: 0.8333\n",
            "7/7 [==============================] - 1s 193ms/step - loss: 0.6843 - acc: 0.6443 - val_loss: 0.5508 - val_acc: 0.8333\n",
            "Epoch 9/30\n",
            "2/2 [==============================] - 0s 172ms/step - loss: 0.4874 - acc: 0.6875\n",
            "7/7 [==============================] - 1s 179ms/step - loss: 0.6170 - acc: 0.6959 - val_loss: 0.4874 - val_acc: 0.6875\n",
            "Epoch 10/30\n",
            "2/2 [==============================] - 0s 196ms/step - loss: 0.4932 - acc: 0.8750\n",
            "7/7 [==============================] - 1s 193ms/step - loss: 0.6124 - acc: 0.6907 - val_loss: 0.4932 - val_acc: 0.8750\n",
            "Epoch 11/30\n",
            "2/2 [==============================] - 0s 163ms/step - loss: 0.4731 - acc: 0.8958\n",
            "7/7 [==============================] - 1s 187ms/step - loss: 0.5517 - acc: 0.7320 - val_loss: 0.4731 - val_acc: 0.8958\n",
            "Epoch 12/30\n",
            "2/2 [==============================] - 0s 195ms/step - loss: 0.4907 - acc: 0.8750\n",
            "7/7 [==============================] - 1s 194ms/step - loss: 0.5778 - acc: 0.6701 - val_loss: 0.4907 - val_acc: 0.8750\n",
            "Epoch 13/30\n",
            "2/2 [==============================] - 0s 182ms/step - loss: 0.3752 - acc: 0.8750\n",
            "7/7 [==============================] - 1s 180ms/step - loss: 0.5379 - acc: 0.7268 - val_loss: 0.3752 - val_acc: 0.8750\n",
            "Epoch 14/30\n",
            "2/2 [==============================] - 0s 197ms/step - loss: 0.4275 - acc: 0.8958\n",
            "7/7 [==============================] - 1s 192ms/step - loss: 0.5265 - acc: 0.7474 - val_loss: 0.4275 - val_acc: 0.8958\n",
            "Epoch 15/30\n",
            "2/2 [==============================] - 0s 177ms/step - loss: 0.3189 - acc: 0.8958\n",
            "7/7 [==============================] - 1s 190ms/step - loss: 0.4464 - acc: 0.7629 - val_loss: 0.3189 - val_acc: 0.8958\n",
            "Epoch 16/30\n",
            "2/2 [==============================] - 0s 162ms/step - loss: 0.3013 - acc: 0.8958\n",
            "7/7 [==============================] - 1s 180ms/step - loss: 0.4024 - acc: 0.7887 - val_loss: 0.3013 - val_acc: 0.8958\n",
            "Epoch 17/30\n",
            "2/2 [==============================] - 0s 195ms/step - loss: 0.2886 - acc: 0.8958\n",
            "7/7 [==============================] - 1s 209ms/step - loss: 0.4229 - acc: 0.8196 - val_loss: 0.2886 - val_acc: 0.8958\n",
            "Epoch 18/30\n",
            "2/2 [==============================] - 0s 188ms/step - loss: 0.2616 - acc: 0.9167\n",
            "7/7 [==============================] - 1s 185ms/step - loss: 0.4181 - acc: 0.8144 - val_loss: 0.2616 - val_acc: 0.9167\n",
            "Epoch 19/30\n",
            "2/2 [==============================] - 0s 190ms/step - loss: 0.2256 - acc: 0.8958\n",
            "7/7 [==============================] - 1s 190ms/step - loss: 0.3311 - acc: 0.8505 - val_loss: 0.2256 - val_acc: 0.8958\n",
            "Epoch 20/30\n",
            "2/2 [==============================] - 0s 176ms/step - loss: 0.2107 - acc: 0.8958\n",
            "7/7 [==============================] - 1s 187ms/step - loss: 0.3318 - acc: 0.8763 - val_loss: 0.2107 - val_acc: 0.8958\n",
            "Epoch 21/30\n",
            "2/2 [==============================] - 0s 191ms/step - loss: 0.2358 - acc: 0.9167\n",
            "7/7 [==============================] - 1s 193ms/step - loss: 0.3083 - acc: 0.8660 - val_loss: 0.2358 - val_acc: 0.9167\n",
            "Epoch 22/30\n",
            "2/2 [==============================] - 0s 166ms/step - loss: 0.2224 - acc: 0.8542\n",
            "7/7 [==============================] - 1s 190ms/step - loss: 0.3020 - acc: 0.8608 - val_loss: 0.2224 - val_acc: 0.8542\n",
            "Epoch 23/30\n",
            "2/2 [==============================] - 0s 199ms/step - loss: 0.2117 - acc: 0.8750\n",
            "7/7 [==============================] - 1s 192ms/step - loss: 0.2453 - acc: 0.9124 - val_loss: 0.2117 - val_acc: 0.8750\n",
            "Epoch 24/30\n",
            "2/2 [==============================] - 0s 177ms/step - loss: 0.2248 - acc: 0.8958\n",
            "7/7 [==============================] - 1s 180ms/step - loss: 0.2735 - acc: 0.8918 - val_loss: 0.2248 - val_acc: 0.8958\n",
            "Epoch 25/30\n",
            "2/2 [==============================] - 0s 185ms/step - loss: 0.1901 - acc: 0.9583\n",
            "7/7 [==============================] - 1s 188ms/step - loss: 0.3061 - acc: 0.8866 - val_loss: 0.1901 - val_acc: 0.9583\n",
            "Epoch 26/30\n",
            "2/2 [==============================] - 0s 170ms/step - loss: 0.1510 - acc: 0.9375\n",
            "7/7 [==============================] - 1s 179ms/step - loss: 0.2370 - acc: 0.9124 - val_loss: 0.1510 - val_acc: 0.9375\n",
            "Epoch 27/30\n",
            "2/2 [==============================] - 0s 196ms/step - loss: 0.1718 - acc: 0.9167\n",
            "7/7 [==============================] - 1s 189ms/step - loss: 0.2044 - acc: 0.9124 - val_loss: 0.1718 - val_acc: 0.9167\n",
            "Epoch 28/30\n",
            "2/2 [==============================] - 0s 159ms/step - loss: 0.1818 - acc: 0.8958\n",
            "7/7 [==============================] - 1s 162ms/step - loss: 0.2709 - acc: 0.9124 - val_loss: 0.1818 - val_acc: 0.8958\n",
            "Epoch 29/30\n",
            "2/2 [==============================] - 0s 194ms/step - loss: 0.2167 - acc: 0.8958\n",
            "7/7 [==============================] - 1s 208ms/step - loss: 0.1995 - acc: 0.9175 - val_loss: 0.2167 - val_acc: 0.8958\n",
            "Epoch 30/30\n",
            "2/2 [==============================] - 0s 185ms/step - loss: 0.1937 - acc: 0.8750\n",
            "7/7 [==============================] - 1s 183ms/step - loss: 0.1961 - acc: 0.9175 - val_loss: 0.1937 - val_acc: 0.8750\n"
          ],
          "name": "stdout"
        },
        {
          "output_type": "execute_result",
          "data": {
            "text/plain": [
              "<tensorflow.python.keras.callbacks.History at 0x7fac6b8bd710>"
            ]
          },
          "metadata": {
            "tags": []
          },
          "execution_count": 21
        }
      ]
    },
    {
      "metadata": {
        "id": "IHZEIqdzAJQZ",
        "colab_type": "code",
        "colab": {}
      },
      "cell_type": "code",
      "source": [
        "scores = model.evaluate_generator(test_generator, nb_test_samples // batch_size)"
      ],
      "execution_count": 0,
      "outputs": []
    },
    {
      "metadata": {
        "id": "IKH3q6ymANpW",
        "colab_type": "code",
        "outputId": "1cebcdbb-89d6-4178-e248-8cb20afd5937",
        "colab": {
          "base_uri": "https://localhost:8080/",
          "height": 34
        }
      },
      "cell_type": "code",
      "source": [
        "print(\"Аккуратность на тестовых данных: %.2f%%\" % (scores[1]*100))"
      ],
      "execution_count": 0,
      "outputs": [
        {
          "output_type": "stream",
          "text": [
            "Аккуратность на тестовых данных: 95.24%\n"
          ],
          "name": "stdout"
        }
      ]
    },
    {
      "metadata": {
        "id": "CSJwxHUZ5khT",
        "colab_type": "code",
        "outputId": "4c1bbe59-ed6b-4c81-8c77-d0cb174e4aba",
        "colab": {
          "base_uri": "https://localhost:8080/",
          "height": 646
        }
      },
      "cell_type": "code",
      "source": [
        "model.summary()"
      ],
      "execution_count": 0,
      "outputs": [
        {
          "output_type": "stream",
          "text": [
            "_________________________________________________________________\n",
            "Layer (type)                 Output Shape              Param #   \n",
            "=================================================================\n",
            "conv2d_6 (Conv2D)            (None, 248, 248, 32)      896       \n",
            "_________________________________________________________________\n",
            "activation_10 (Activation)   (None, 248, 248, 32)      0         \n",
            "_________________________________________________________________\n",
            "max_pooling2d_6 (MaxPooling2 (None, 124, 124, 32)      0         \n",
            "_________________________________________________________________\n",
            "conv2d_7 (Conv2D)            (None, 122, 122, 32)      9248      \n",
            "_________________________________________________________________\n",
            "activation_11 (Activation)   (None, 122, 122, 32)      0         \n",
            "_________________________________________________________________\n",
            "max_pooling2d_7 (MaxPooling2 (None, 61, 61, 32)        0         \n",
            "_________________________________________________________________\n",
            "conv2d_8 (Conv2D)            (None, 59, 59, 64)        18496     \n",
            "_________________________________________________________________\n",
            "activation_12 (Activation)   (None, 59, 59, 64)        0         \n",
            "_________________________________________________________________\n",
            "max_pooling2d_8 (MaxPooling2 (None, 29, 29, 64)        0         \n",
            "_________________________________________________________________\n",
            "flatten_2 (Flatten)          (None, 53824)             0         \n",
            "_________________________________________________________________\n",
            "dense_4 (Dense)              (None, 64)                3444800   \n",
            "_________________________________________________________________\n",
            "activation_13 (Activation)   (None, 64)                0         \n",
            "_________________________________________________________________\n",
            "dropout_2 (Dropout)          (None, 64)                0         \n",
            "_________________________________________________________________\n",
            "dense_5 (Dense)              (None, 1)                 65        \n",
            "_________________________________________________________________\n",
            "activation_14 (Activation)   (None, 1)                 0         \n",
            "=================================================================\n",
            "Total params: 3,473,505\n",
            "Trainable params: 3,473,505\n",
            "Non-trainable params: 0\n",
            "_________________________________________________________________\n"
          ],
          "name": "stdout"
        }
      ]
    },
    {
      "metadata": {
        "id": "UFvVbrtf51Op",
        "colab_type": "code",
        "outputId": "42df07c6-d30e-47fd-c7cd-133f4411df51",
        "colab": {
          "base_uri": "https://localhost:8080/",
          "height": 34
        }
      },
      "cell_type": "code",
      "source": [
        "from keras.models import load_model\n",
        "model.save('/content/drive/My Drive/Colab Notebooks/model.h5')"
      ],
      "execution_count": 0,
      "outputs": [
        {
          "output_type": "stream",
          "text": [
            "Using TensorFlow backend.\n"
          ],
          "name": "stderr"
        }
      ]
    },
    {
      "metadata": {
        "id": "L9PbjSXKzntW",
        "colab_type": "code",
        "outputId": "a9adb5e3-17e9-48a4-9bec-2c8c44227130",
        "colab": {
          "base_uri": "https://localhost:8080/",
          "height": 34
        }
      },
      "cell_type": "code",
      "source": [
        "# MLP for Pima Indians Dataset Serialize to JSON and HDF5\n",
        "from keras.models import Sequential\n",
        "from keras.layers import Dense\n",
        "from keras.models import model_from_json\n",
        "import numpy\n",
        "import os\n",
        "# save as JSON\n",
        "json_string = model.to_json()\n",
        "\n",
        " \n",
        "# serialize model to JSON\n",
        "model_json = model.to_json()\n",
        "with open(\"/content/drive/My Drive/Colab Notebooks/test_model.json\", \"w\") as json_file:\n",
        "    json_file.write(model_json)\n",
        "# serialize weights to HDF5\n",
        "model.save_weights(\"/content/drive/My Drive/Colab Notebooks/test_model.h5\")\n",
        "print(\"Saved model to disk\")\n",
        "\n"
      ],
      "execution_count": 0,
      "outputs": [
        {
          "output_type": "stream",
          "text": [
            "Saved model to disk\n"
          ],
          "name": "stdout"
        }
      ]
    },
    {
      "metadata": {
        "id": "nZ5UNf2uAPcH",
        "colab_type": "code",
        "colab": {}
      },
      "cell_type": "code",
      "source": [
        "model_json = model.to_json()\n",
        "json_file = open(\"core_model.json\", \"w\")\n",
        "json_file.write(model_json)\n",
        "json_file.close()\n",
        "model.save_weights(\"core_model.h5\")"
      ],
      "execution_count": 0,
      "outputs": []
    },
    {
      "metadata": {
        "id": "QeeFJhXAA5Jf",
        "colab_type": "code",
        "outputId": "d64bdf26-2cbb-4ff9-82a4-39be48f36701",
        "colab": {
          "base_uri": "https://localhost:8080/",
          "height": 34
        }
      },
      "cell_type": "code",
      "source": [
        "!ls"
      ],
      "execution_count": 0,
      "outputs": [
        {
          "output_type": "stream",
          "text": [
            "drive  sample_data\n"
          ],
          "name": "stdout"
        }
      ]
    },
    {
      "metadata": {
        "id": "JYulYAbcIGZh",
        "colab_type": "code",
        "colab": {}
      },
      "cell_type": "code",
      "source": [
        "from google.colab import files"
      ],
      "execution_count": 0,
      "outputs": []
    },
    {
      "metadata": {
        "id": "ODShWan_IRte",
        "colab_type": "code",
        "colab": {}
      },
      "cell_type": "code",
      "source": [
        "files.download(\"model.json\")"
      ],
      "execution_count": 0,
      "outputs": []
    },
    {
      "metadata": {
        "id": "0wt2-kUUIXZW",
        "colab_type": "code",
        "colab": {}
      },
      "cell_type": "code",
      "source": [
        "files.download(\"model.h5\")"
      ],
      "execution_count": 0,
      "outputs": []
    }
  ]
}